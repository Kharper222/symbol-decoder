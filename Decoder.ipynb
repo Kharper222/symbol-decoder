{
  "nbformat": 4,
  "nbformat_minor": 0,
  "metadata": {
    "colab": {
      "name": "Decoder",
      "provenance": [],
      "collapsed_sections": []
    },
    "kernelspec": {
      "name": "python3",
      "display_name": "Python 3"
    },
    "language_info": {
      "name": "python"
    }
  },
  "cells": [
    {
      "cell_type": "code",
      "source": [
        "import random"
      ],
      "metadata": {
        "id": "4_MnKYu6-qA7"
      },
      "execution_count": null,
      "outputs": []
    },
    {
      "cell_type": "markdown",
      "source": [
        "Setup our distinct list of symbols"
      ],
      "metadata": {
        "id": "xM2W_ZOECH1a"
      }
    },
    {
      "cell_type": "code",
      "execution_count": null,
      "metadata": {
        "colab": {
          "base_uri": "https://localhost:8080/"
        },
        "id": "-m_JrleflpgN",
        "outputId": "473855c9-cd71-47e7-bf62-4b2205438cbc"
      },
      "outputs": [
        {
          "output_type": "stream",
          "name": "stdout",
          "text": [
            "{'symbol(19)', 'symbol(1)', 'symbol(20)', 'symbol(14)', 'symbol(16)', 'symbol(21)', 'symbol(11)', 'symbol(5)', 'symbol(6)', 'symbol(9)', 'symbol(12)', 'symbol(17)', 'symbol(15)', 'symbol(13)', 'symbol(8)', 'symbol(10)', 'symbol(2)', 'symbol(18)', 'symbol(3)', 'symbol(4)', 'symbol(7)'}\n"
          ]
        }
      ],
      "source": [
        "# Represents that list of symbols\n",
        "#charList = 'abcdcecfafgehcabfebheabchiejcfekfleccmafhncoafabcacpqocdccqrierdcabcpfliahrifgfbhlsciabcciafhitcbrddciriabcehidefgarpchiheehedfhmcreebcmccqcffgabcphq'\n",
        "charList = '''symbol(1),symbol(2),symbol(3),symbol(4),symbol(3),symbol(5),symbol(3),symbol(6),\n",
        "symbol(1),symbol(7),symbol(8),symbol(5),symbol(9),symbol(3),symbol(1),symbol(2),\n",
        "symbol(7),symbol(5),symbol(2),symbol(9),symbol(5),symbol(1),symbol(2),symbol(3),\n",
        "symbol(9),symbol(10),symbol(5),symbol(11),symbol(3),symbol(6),symbol(5),symbol(12),\n",
        "symbol(7),symbol(13),symbol(5),symbol(3),symbol(3),symbol(14),symbol(1),symbol(6),\n",
        "symbol(9),symbol(21),symbol(3),symbol(15),symbol(1),symbol(7),symbol(1),symbol(2),\n",
        "symbol(3),symbol(1),symbol(3),symbol(19),symbol(20),symbol(15),symbol(3),symbol(4),\n",
        "symbol(3),symbol(3),symbol(20),symbol(16),symbol(10),symbol(5),symbol(16),symbol(4),\n",
        "symbol(3),symbol(1),symbol(2),symbol(3),symbol(19),symbol(7),symbol(13),symbol(10),\n",
        "symbol(1),symbol(9),symbol(16),symbol(10),symbol(7),symbol(8),symbol(6),symbol(2),\n",
        "symbol(9),symbol(13),symbol(17),symbol(3),symbol(10),symbol(1),symbol(2),symbol(3),\n",
        "symbol(3),symbol(10),symbol(1),symbol(6),symbol(9),symbol(10),symbol(18),symbol(3),\n",
        "symbol(2),symbol(16),symbol(4),symbol(4),symbol(3),symbol(10),symbol(16),symbol(10),\n",
        "symbol(1),symbol(2),symbol(3),symbol(5),symbol(9),symbol(10),symbol(4),symbol(5),\n",
        "symbol(7),symbol(8),symbol(1),symbol(16),symbol(19),symbol(3),symbol(9),symbol(10),\n",
        "symbol(14),symbol(3),symbol(16),symbol(5),symbol(1),symbol(2),symbol(3),symbol(14),\n",
        "symbol(3),symbol(3),symbol(20),symbol(3),symbol(6),symbol(7),symbol(8),symbol(1),\n",
        "symbol(2),symbol(3),symbol(19),symbol(9),symbol(20)'''\n",
        "\n",
        "# Clean our string of data up\n",
        "charList = charList.replace('\\n', '')\n",
        "splitCharList = charList.split(',')\n",
        "\n",
        "# Distinct set of symbols\n",
        "charSet = set(splitCharList)\n",
        "\n",
        "print (charSet)"
      ]
    },
    {
      "cell_type": "markdown",
      "source": [
        "Find out our most often occuring symbols"
      ],
      "metadata": {
        "id": "6uL5fttcCP93"
      }
    },
    {
      "cell_type": "code",
      "source": [
        "# dictionary of symbols and their frequency\n",
        "charCountDict = {}\n",
        "\n",
        "# Get the symbol count\n",
        "for character in charSet:\n",
        "  charCountDict[character] = splitCharList.count(character);\n",
        "\n",
        "sortedList = sorted(charCountDict.items(), key=lambda x:x[1], reverse=True)\n",
        "sortedSymbolOccurances = dict(sortedList)\n",
        "\n",
        "print(sortedSymbolOccurances)"
      ],
      "metadata": {
        "id": "cPacFRljqIWW",
        "colab": {
          "base_uri": "https://localhost:8080/"
        },
        "outputId": "7bdfd45b-8c0b-420b-86b6-e3efa6783a21"
      },
      "execution_count": null,
      "outputs": [
        {
          "output_type": "stream",
          "name": "stdout",
          "text": [
            "{'symbol(3)': 29, 'symbol(1)': 16, 'symbol(2)': 12, 'symbol(5)': 11, 'symbol(10)': 11, 'symbol(9)': 10, 'symbol(7)': 8, 'symbol(16)': 7, 'symbol(6)': 6, 'symbol(4)': 6, 'symbol(19)': 4, 'symbol(20)': 4, 'symbol(8)': 4, 'symbol(14)': 3, 'symbol(13)': 3, 'symbol(15)': 2, 'symbol(21)': 1, 'symbol(11)': 1, 'symbol(12)': 1, 'symbol(17)': 1, 'symbol(18)': 1}\n"
          ]
        }
      ]
    },
    {
      "cell_type": "markdown",
      "source": [
        "Create our key based on how often each letter occurs in the english alphabet (Likely wrong but gives us an idea)"
      ],
      "metadata": {
        "id": "vUmu8eKD6LLZ"
      }
    },
    {
      "cell_type": "code",
      "source": [
        "# Represents the ordered most frequent letters in the english alphabet\n",
        "letterFrequencyOrder = [\"e\", \"a\", \"r\", \"i\", \"o\", \"t\", \"n\", \"s\", \"l\", \"c\", \"u\", \"d\", \"p\", \"m\", \"h\", \"g\", \"b\", \"f\", \"y\", \"w\", \"k\", \"v\", \"x\", \"z\", \"j\", \"q\"]\n",
        "# Key\n",
        "symbolKey = {}\n",
        "\n",
        "count = 0\n",
        "for i in sortedSymbolOccurances:\n",
        "  symbolKey[i] = letterFrequencyOrder[count]\n",
        "  count += 1\n",
        "\n",
        "# Set this every time or it's going to vary on each run 😂🔫\n",
        "symbolKey = {'symbol(3)': 'e', 'symbol(1)': 'a', 'symbol(2)': 'r', 'symbol(10)': 'i', 'symbol(9)': 'o', 'symbol(7)': 't', 'symbol(5)': 'n', 'symbol(6)': 's', 'symbol(16)': 'l', 'symbol(4)': 'c', 'symbol(19)': 'u', 'symbol(8)': 'd', 'symbol(20)': 'p', 'symbol(14)': 'm', 'symbol(13)': 'h', 'symbol(15)': 'g', 'symbol(17)': 'b', 'symbol(18)': 'f', 'symbol(21)': 'y', 'symbol(12)': 'w', 'symbol(11)': 'k'}\n",
        "print(symbolKey)"
      ],
      "metadata": {
        "id": "V0ArdZOfz1z5",
        "colab": {
          "base_uri": "https://localhost:8080/"
        },
        "outputId": "324d14c3-2513-414d-8a7d-0f2ba1bb7a61"
      },
      "execution_count": null,
      "outputs": [
        {
          "output_type": "stream",
          "name": "stdout",
          "text": [
            "{'symbol(3)': 'e', 'symbol(1)': 'a', 'symbol(2)': 'r', 'symbol(10)': 'i', 'symbol(9)': 'o', 'symbol(7)': 't', 'symbol(5)': 'n', 'symbol(6)': 's', 'symbol(16)': 'l', 'symbol(4)': 'c', 'symbol(19)': 'u', 'symbol(8)': 'd', 'symbol(20)': 'p', 'symbol(14)': 'm', 'symbol(13)': 'h', 'symbol(15)': 'g', 'symbol(17)': 'b', 'symbol(18)': 'f', 'symbol(21)': 'y', 'symbol(12)': 'w', 'symbol(11)': 'k'}\n"
          ]
        }
      ]
    },
    {
      "cell_type": "markdown",
      "source": [
        "First attempted decode using most often occuring letters"
      ],
      "metadata": {
        "id": "RgsDpGh--hWp"
      }
    },
    {
      "cell_type": "code",
      "source": [
        "decodedText = \"\"\n",
        "for i in splitCharList:\n",
        "  decodedText += symbolKey[i]\n",
        "\n",
        "print(decodedText)"
      ],
      "metadata": {
        "colab": {
          "base_uri": "https://localhost:8080/"
        },
        "id": "r65yZQ3T6Wap",
        "outputId": "1d0f321f-85d7-4a0b-945d-31c458fea7a4"
      },
      "execution_count": null,
      "outputs": [
        {
          "output_type": "stream",
          "name": "stdout",
          "text": [
            "arecenesatdnoeartnronareoinkesnwthneemasoyegatareaeupgeceeplinlceareuthiaolitdsrohbeiareeiasoiferlcceiliarenoicntdalueoimelnaremeepestdareuop\n"
          ]
        }
      ]
    },
    {
      "cell_type": "markdown",
      "source": [
        "Attempt putting spaces between letter e since it's most likely the right letter (Looking for the word \"the\")\n",
        "It looks like the string \"are\" may be the word \"the\", so let's try adjusting our key accordingly"
      ],
      "metadata": {
        "id": "gqMICIdQK-Er"
      }
    },
    {
      "cell_type": "code",
      "source": [
        "decodedText = \"\"\n",
        "for i in splitCharList:\n",
        "  decodedText += symbolKey[i]\n",
        "\n",
        "  if decodedText[len(decodedText)-1] == \"e\":\n",
        "    decodedText += \" \"\n",
        "\n",
        "print(decodedText)\n",
        "print (symbolKey)"
      ],
      "metadata": {
        "colab": {
          "base_uri": "https://localhost:8080/"
        },
        "id": "4Xt-PraYKpin",
        "outputId": "6cab2f0f-be0e-42b7-a476-ebcd6e1b494a"
      },
      "execution_count": null,
      "outputs": [
        {
          "output_type": "stream",
          "name": "stdout",
          "text": [
            "are ce ne satdnoe artnronare oinke snwthne e masoye gatare ae upge ce e plinlce are uthiaolitdsrohbe iare e iasoife rlcce iliare noicntdalue oime lnare me e pe stdare uop\n",
            "{'symbol(3)': 'e', 'symbol(1)': 'a', 'symbol(2)': 'r', 'symbol(10)': 'i', 'symbol(9)': 'o', 'symbol(7)': 't', 'symbol(5)': 'n', 'symbol(6)': 's', 'symbol(16)': 'l', 'symbol(4)': 'c', 'symbol(19)': 'u', 'symbol(8)': 'd', 'symbol(20)': 'p', 'symbol(14)': 'm', 'symbol(13)': 'h', 'symbol(15)': 'g', 'symbol(17)': 'b', 'symbol(18)': 'f', 'symbol(21)': 'y', 'symbol(12)': 'w', 'symbol(11)': 'k'}\n"
          ]
        }
      ]
    },
    {
      "cell_type": "markdown",
      "source": [
        "Define a flip function to make things easier for us\n"
      ],
      "metadata": {
        "id": "25xmgGaXMYiP"
      }
    },
    {
      "cell_type": "code",
      "source": [
        "def flipSymbolValues(targetSymbol, valueToSet):\n",
        "  # Search for the value we need to swap with.\n",
        "  for i in symbolKey:\n",
        "    # If we match on the value, set the value for the match to \n",
        "    if symbolKey[i] == valueToSet:\n",
        "      temp = symbolKey[i]\n",
        "      symbolKey[i] = symbolKey[targetSymbol]\n",
        "      # Set the new symbol\n",
        "      symbolKey[targetSymbol] = temp\n",
        "\n",
        "    "
      ],
      "metadata": {
        "id": "ecdF84fMyXRF"
      },
      "execution_count": null,
      "outputs": []
    },
    {
      "cell_type": "code",
      "source": [
        "def dumpValues():\n",
        "  decodedText = \"-Decoded Text-\\n\"\n",
        "  for i in splitCharList:\n",
        "    decodedText += symbolKey[i]\n",
        "\n",
        "  print (f\"{decodedText}\\n\\n-Symbol Dictionary-\")\n",
        "\n",
        "  for i in symbolKey:\n",
        "    padding = \"\"\n",
        "    if len(i) == 9:\n",
        "      padding = \" \"\n",
        "    symbolKeyOut = f\"{i} {padding}-> {symbolKey[i]}\"\n",
        "    print (symbolKeyOut)\n",
        "\n",
        "  \n",
        "  print (f\"\\n-Original-\\n{splitCharList}\")"
      ],
      "metadata": {
        "id": "m11OGVb2FlGl"
      },
      "execution_count": null,
      "outputs": []
    },
    {
      "cell_type": "code",
      "source": [
        "solvedCharacters = \"thedeserthiddenentrancemountaintimekeeperanswersyoutraveltoofrhauxenanke\"\n",
        "def hangMan():\n",
        "  hangmanText = \"\"\n",
        "  decodedText = \"\"\n",
        "  for i in splitCharList:\n",
        "    decodedText += symbolKey[i]\n",
        "\n",
        "  for i in decodedText:\n",
        "    if i in solvedCharacters:\n",
        "      hangmanText += i\n",
        "    else:\n",
        "      hangmanText += \"_\"\n",
        "\n",
        "  print (hangmanText.replace(\"the\", \"the \")\n",
        "                  .replace(\"desert\", \"desert \")\n",
        "                  .replace(\"hidden\", \"hidden \")\n",
        "                  .replace(\"inside\", \"inside \")\n",
        "                  .replace(\"has\", \"has \")\n",
        "                  .replace(\"entrance\", \"entrance \")\n",
        "                  .replace(\"is\", \"is \")\n",
        "                  .replace(\"mountain\", \"mountain \")\n",
        "                  .replace(\"time\", \"time \")\n",
        "                  .replace(\"keeper\", \"keeper \")\n",
        "                  .replace(\"answers\", \"answers \")\n",
        "                  .replace(\"seek\", \"seek \")\n",
        "                  .replace(\"you\", \"you \")\n",
        "                  .replace(\"travel\", \"travel \")\n",
        "                  .replace(\"to\", \"to \")\n",
        "                  .replace(\"temple\", \"temple \")\n",
        "                  .replace(\"deep\", \"deep \")\n",
        "                  .replace(\"of\", \"of \")\n",
        "                  .replace(\" in\", \" in \")\n",
        "                  .replace(\"rhauxen\", \"rhauxen \")\n",
        "                  .replace(\"sands\", \"sands \")\n",
        "                  .replace(\"anke\", \"anke \")\n",
        "                  .replace(\"saethos\", \"saethos \")\n",
        "  )"
      ],
      "metadata": {
        "id": "dZx_wt8BJLq7"
      },
      "execution_count": null,
      "outputs": []
    },
    {
      "cell_type": "code",
      "source": [
        "dumpValues()"
      ],
      "metadata": {
        "colab": {
          "base_uri": "https://localhost:8080/"
        },
        "id": "kxFNXbWUFw6N",
        "outputId": "de20a7b3-68ce-4f2e-9814-790c3c6aec54"
      },
      "execution_count": null,
      "outputs": [
        {
          "output_type": "stream",
          "name": "stdout",
          "text": [
            "-Decoded Text-\n",
            "arecenesatdnoeartnronareoinkesnwthneemasoyegatareaeupgeceeplinlceareuthiaolitdsrohbeiareeiasoiferlcceiliarenoicntdalueoimelnaremeepestdareuop\n",
            "\n",
            "-Symbol Dictionary-\n",
            "symbol(3)  -> e\n",
            "symbol(1)  -> a\n",
            "symbol(2)  -> r\n",
            "symbol(10) -> i\n",
            "symbol(9)  -> o\n",
            "symbol(7)  -> t\n",
            "symbol(5)  -> n\n",
            "symbol(6)  -> s\n",
            "symbol(16) -> l\n",
            "symbol(4)  -> c\n",
            "symbol(19) -> u\n",
            "symbol(8)  -> d\n",
            "symbol(20) -> p\n",
            "symbol(14) -> m\n",
            "symbol(13) -> h\n",
            "symbol(15) -> g\n",
            "symbol(17) -> b\n",
            "symbol(18) -> f\n",
            "symbol(21) -> y\n",
            "symbol(12) -> w\n",
            "symbol(11) -> k\n",
            "\n",
            "-Original-\n",
            "['symbol(1)', 'symbol(2)', 'symbol(3)', 'symbol(4)', 'symbol(3)', 'symbol(5)', 'symbol(3)', 'symbol(6)', 'symbol(1)', 'symbol(7)', 'symbol(8)', 'symbol(5)', 'symbol(9)', 'symbol(3)', 'symbol(1)', 'symbol(2)', 'symbol(7)', 'symbol(5)', 'symbol(2)', 'symbol(9)', 'symbol(5)', 'symbol(1)', 'symbol(2)', 'symbol(3)', 'symbol(9)', 'symbol(10)', 'symbol(5)', 'symbol(11)', 'symbol(3)', 'symbol(6)', 'symbol(5)', 'symbol(12)', 'symbol(7)', 'symbol(13)', 'symbol(5)', 'symbol(3)', 'symbol(3)', 'symbol(14)', 'symbol(1)', 'symbol(6)', 'symbol(9)', 'symbol(21)', 'symbol(3)', 'symbol(15)', 'symbol(1)', 'symbol(7)', 'symbol(1)', 'symbol(2)', 'symbol(3)', 'symbol(1)', 'symbol(3)', 'symbol(19)', 'symbol(20)', 'symbol(15)', 'symbol(3)', 'symbol(4)', 'symbol(3)', 'symbol(3)', 'symbol(20)', 'symbol(16)', 'symbol(10)', 'symbol(5)', 'symbol(16)', 'symbol(4)', 'symbol(3)', 'symbol(1)', 'symbol(2)', 'symbol(3)', 'symbol(19)', 'symbol(7)', 'symbol(13)', 'symbol(10)', 'symbol(1)', 'symbol(9)', 'symbol(16)', 'symbol(10)', 'symbol(7)', 'symbol(8)', 'symbol(6)', 'symbol(2)', 'symbol(9)', 'symbol(13)', 'symbol(17)', 'symbol(3)', 'symbol(10)', 'symbol(1)', 'symbol(2)', 'symbol(3)', 'symbol(3)', 'symbol(10)', 'symbol(1)', 'symbol(6)', 'symbol(9)', 'symbol(10)', 'symbol(18)', 'symbol(3)', 'symbol(2)', 'symbol(16)', 'symbol(4)', 'symbol(4)', 'symbol(3)', 'symbol(10)', 'symbol(16)', 'symbol(10)', 'symbol(1)', 'symbol(2)', 'symbol(3)', 'symbol(5)', 'symbol(9)', 'symbol(10)', 'symbol(4)', 'symbol(5)', 'symbol(7)', 'symbol(8)', 'symbol(1)', 'symbol(16)', 'symbol(19)', 'symbol(3)', 'symbol(9)', 'symbol(10)', 'symbol(14)', 'symbol(3)', 'symbol(16)', 'symbol(5)', 'symbol(1)', 'symbol(2)', 'symbol(3)', 'symbol(14)', 'symbol(3)', 'symbol(3)', 'symbol(20)', 'symbol(3)', 'symbol(6)', 'symbol(7)', 'symbol(8)', 'symbol(1)', 'symbol(2)', 'symbol(3)', 'symbol(19)', 'symbol(9)', 'symbol(20)']\n"
          ]
        }
      ]
    },
    {
      "cell_type": "code",
      "source": [
        "# Comments below represent the following [my guess] [the hangman generated string I'm looking at] [new solved letters with this guess]\n",
        "# The \"ar\"\n",
        "flipSymbolValues(\"symbol(1)\", \"t\")\n",
        "flipSymbolValues(\"symbol(2)\", \"h\")\n",
        "# Desert col\n",
        "flipSymbolValues(\"symbol(4)\", \"d\")\n",
        "flipSymbolValues(\"symbol(5)\", \"s\")\n",
        "flipSymbolValues(\"symbol(6)\", \"r\")\n",
        "# Hidden h_dde_ n\n",
        "flipSymbolValues(\"symbol(16)\", \"i\")\n",
        "flipSymbolValues(\"symbol(10)\", \"n\")\n",
        "# entrance entr_n_e ac\n",
        "flipSymbolValues(\"symbol(9)\", \"a\")\n",
        "flipSymbolValues(\"symbol(18)\", \"c\")\n",
        "# mountain ___ntain mu\n",
        "flipSymbolValues(\"symbol(19)\", \"m\")\n",
        "flipSymbolValues(\"symbol(13)\", \"u\")\n",
        "# keeper (leeper of the map) k\n",
        "flipSymbolValues(\"symbol(14)\", \"k\")\n",
        "# answers ans_ers w\n",
        "flipSymbolValues(\"symbol(11)\", \"w\")\n",
        "# you lou y\n",
        "flipSymbolValues(\"symbol(12)\", \"y\")\n",
        "# travel tra_e_ vl (NEW LETTER V)\n",
        "symbolKey[\"newSymbol(1)\"] = \"v\"\n",
        "flipSymbolValues(\"symbol(21)\", \"v\")\n",
        "flipSymbolValues(\"symbol(15)\", \"l\")\n",
        "# rhauxen rhau_en (NEW LETTER X)\n",
        "symbolKey[\"newSymbol(2)\"] = \"x\"\n",
        "flipSymbolValues(\"symbol(17)\", \"x\")"
      ],
      "metadata": {
        "id": "4T2sJoErMozx"
      },
      "execution_count": null,
      "outputs": []
    },
    {
      "cell_type": "code",
      "source": [
        "dumpValues()"
      ],
      "metadata": {
        "colab": {
          "base_uri": "https://localhost:8080/"
        },
        "id": "nGeRyl-9F7u6",
        "outputId": "d2d3bf32-c2cd-44e8-be66-f402a4926498"
      },
      "execution_count": null,
      "outputs": [
        {
          "output_type": "stream",
          "name": "stdout",
          "text": [
            "-Decoded Text-\n",
            "thedesertofsaethoshastheanswersyouseektraveltothetempledeepinsidethemountainofrhauxentheentrancehiddeninthesandsoftimeankeisthekeeperofthemap\n",
            "\n",
            "-Symbol Dictionary-\n",
            "symbol(3)  -> e\n",
            "symbol(1)  -> t\n",
            "symbol(2)  -> h\n",
            "symbol(10) -> n\n",
            "symbol(9)  -> a\n",
            "symbol(7)  -> o\n",
            "symbol(5)  -> s\n",
            "symbol(6)  -> r\n",
            "symbol(16) -> i\n",
            "symbol(4)  -> d\n",
            "symbol(19) -> m\n",
            "symbol(8)  -> f\n",
            "symbol(20) -> p\n",
            "symbol(14) -> k\n",
            "symbol(13) -> u\n",
            "symbol(15) -> l\n",
            "symbol(17) -> x\n",
            "symbol(18) -> c\n",
            "symbol(21) -> v\n",
            "symbol(12) -> y\n",
            "symbol(11) -> w\n",
            "newSymbol(1) -> g\n",
            "newSymbol(2) -> b\n",
            "\n",
            "-Original-\n",
            "['symbol(1)', 'symbol(2)', 'symbol(3)', 'symbol(4)', 'symbol(3)', 'symbol(5)', 'symbol(3)', 'symbol(6)', 'symbol(1)', 'symbol(7)', 'symbol(8)', 'symbol(5)', 'symbol(9)', 'symbol(3)', 'symbol(1)', 'symbol(2)', 'symbol(7)', 'symbol(5)', 'symbol(2)', 'symbol(9)', 'symbol(5)', 'symbol(1)', 'symbol(2)', 'symbol(3)', 'symbol(9)', 'symbol(10)', 'symbol(5)', 'symbol(11)', 'symbol(3)', 'symbol(6)', 'symbol(5)', 'symbol(12)', 'symbol(7)', 'symbol(13)', 'symbol(5)', 'symbol(3)', 'symbol(3)', 'symbol(14)', 'symbol(1)', 'symbol(6)', 'symbol(9)', 'symbol(21)', 'symbol(3)', 'symbol(15)', 'symbol(1)', 'symbol(7)', 'symbol(1)', 'symbol(2)', 'symbol(3)', 'symbol(1)', 'symbol(3)', 'symbol(19)', 'symbol(20)', 'symbol(15)', 'symbol(3)', 'symbol(4)', 'symbol(3)', 'symbol(3)', 'symbol(20)', 'symbol(16)', 'symbol(10)', 'symbol(5)', 'symbol(16)', 'symbol(4)', 'symbol(3)', 'symbol(1)', 'symbol(2)', 'symbol(3)', 'symbol(19)', 'symbol(7)', 'symbol(13)', 'symbol(10)', 'symbol(1)', 'symbol(9)', 'symbol(16)', 'symbol(10)', 'symbol(7)', 'symbol(8)', 'symbol(6)', 'symbol(2)', 'symbol(9)', 'symbol(13)', 'symbol(17)', 'symbol(3)', 'symbol(10)', 'symbol(1)', 'symbol(2)', 'symbol(3)', 'symbol(3)', 'symbol(10)', 'symbol(1)', 'symbol(6)', 'symbol(9)', 'symbol(10)', 'symbol(18)', 'symbol(3)', 'symbol(2)', 'symbol(16)', 'symbol(4)', 'symbol(4)', 'symbol(3)', 'symbol(10)', 'symbol(16)', 'symbol(10)', 'symbol(1)', 'symbol(2)', 'symbol(3)', 'symbol(5)', 'symbol(9)', 'symbol(10)', 'symbol(4)', 'symbol(5)', 'symbol(7)', 'symbol(8)', 'symbol(1)', 'symbol(16)', 'symbol(19)', 'symbol(3)', 'symbol(9)', 'symbol(10)', 'symbol(14)', 'symbol(3)', 'symbol(16)', 'symbol(5)', 'symbol(1)', 'symbol(2)', 'symbol(3)', 'symbol(14)', 'symbol(3)', 'symbol(3)', 'symbol(20)', 'symbol(3)', 'symbol(6)', 'symbol(7)', 'symbol(8)', 'symbol(1)', 'symbol(2)', 'symbol(3)', 'symbol(19)', 'symbol(9)', 'symbol(20)']\n"
          ]
        }
      ]
    },
    {
      "cell_type": "markdown",
      "source": [
        ""
      ],
      "metadata": {
        "id": "alzSLdlOQ8xs"
      }
    },
    {
      "cell_type": "code",
      "source": [
        "hangMan()"
      ],
      "metadata": {
        "colab": {
          "base_uri": "https://localhost:8080/"
        },
        "id": "pxg9Rn0uMhZJ",
        "outputId": "b1a2ac18-59e3-4190-8e61-7e45b0a0d7a2"
      },
      "execution_count": null,
      "outputs": [
        {
          "output_type": "stream",
          "name": "stdout",
          "text": [
            "the desert of saethos has the answers you seek travel to the temple deep in side the mountain of rhauxen the entrance hidden in the sands of time anke is the keeper of the map\n"
          ]
        }
      ]
    }
  ]
}